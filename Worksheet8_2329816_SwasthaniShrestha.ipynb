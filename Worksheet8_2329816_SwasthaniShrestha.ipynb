{
 "cells": [
  {
   "cell_type": "code",
   "execution_count": 1,
   "id": "fb7e8093-5796-470d-b11b-6d6c86324bfa",
   "metadata": {},
   "outputs": [
    {
     "name": "stderr",
     "output_type": "stream",
     "text": [
      "C:\\Users\\swast\\anaconda3\\lib\\site-packages\\pandas\\core\\computation\\expressions.py:21: UserWarning: Pandas requires version '2.8.4' or newer of 'numexpr' (version '2.8.3' currently installed).\n",
      "  from pandas.core.computation.check import NUMEXPR_INSTALLED\n",
      "C:\\Users\\swast\\anaconda3\\lib\\site-packages\\pandas\\core\\arrays\\masked.py:60: UserWarning: Pandas requires version '1.3.6' or newer of 'bottleneck' (version '1.3.5' currently installed).\n",
      "  from pandas.core import (\n",
      "[nltk_data] Downloading package stopwords to\n",
      "[nltk_data]     C:\\Users\\swast\\AppData\\Roaming\\nltk_data...\n",
      "[nltk_data]   Package stopwords is already up-to-date!\n",
      "[nltk_data] Downloading package wordnet to\n",
      "[nltk_data]     C:\\Users\\swast\\AppData\\Roaming\\nltk_data...\n",
      "[nltk_data]   Package wordnet is already up-to-date!\n"
     ]
    },
    {
     "data": {
      "text/plain": [
       "True"
      ]
     },
     "execution_count": 1,
     "metadata": {},
     "output_type": "execute_result"
    }
   ],
   "source": [
    "import numpy as np\n",
    "import pandas as pd\n",
    "import matplotlib.pyplot as plt\n",
    "from sklearn.model_selection import train_test_split\n",
    "from sklearn.preprocessing import LabelEncoder\n",
    "from tensorflow.keras.preprocessing.text import Tokenizer\n",
    "from tensorflow.keras.preprocessing.sequence import pad_sequences\n",
    "from tensorflow.keras.models import Sequential\n",
    "from tensorflow.keras.layers import Embedding, SimpleRNN, LSTM, Dense, Dropout\n",
    "import re\n",
    "import nltk\n",
    "from nltk.corpus import stopwords\n",
    "from nltk.stem import WordNetLemmatizer\n",
    "nltk.download('stopwords')\n",
    "nltk.download('wordnet')"
   ]
  },
  {
   "cell_type": "code",
   "execution_count": 3,
   "id": "e1dd9e23-9f67-45d6-a6ee-afb13c937a95",
   "metadata": {},
   "outputs": [
    {
     "data": {
      "text/html": [
       "<div>\n",
       "<style scoped>\n",
       "    .dataframe tbody tr th:only-of-type {\n",
       "        vertical-align: middle;\n",
       "    }\n",
       "\n",
       "    .dataframe tbody tr th {\n",
       "        vertical-align: top;\n",
       "    }\n",
       "\n",
       "    .dataframe thead th {\n",
       "        text-align: right;\n",
       "    }\n",
       "</style>\n",
       "<table border=\"1\" class=\"dataframe\">\n",
       "  <thead>\n",
       "    <tr style=\"text-align: right;\">\n",
       "      <th></th>\n",
       "      <th>text</th>\n",
       "      <th>Sentiment</th>\n",
       "    </tr>\n",
       "  </thead>\n",
       "  <tbody>\n",
       "    <tr>\n",
       "      <th>0</th>\n",
       "      <td>RT @JohnLeguizamo: #trump not draining swamp b...</td>\n",
       "      <td>0</td>\n",
       "    </tr>\n",
       "    <tr>\n",
       "      <th>1</th>\n",
       "      <td>ICYMI: Hackers Rig FM Radio Stations To Play A...</td>\n",
       "      <td>0</td>\n",
       "    </tr>\n",
       "    <tr>\n",
       "      <th>2</th>\n",
       "      <td>Trump protests: LGBTQ rally in New York https:...</td>\n",
       "      <td>1</td>\n",
       "    </tr>\n",
       "    <tr>\n",
       "      <th>3</th>\n",
       "      <td>\"Hi I'm Piers Morgan. David Beckham is awful b...</td>\n",
       "      <td>0</td>\n",
       "    </tr>\n",
       "    <tr>\n",
       "      <th>4</th>\n",
       "      <td>RT @GlennFranco68: Tech Firm Suing BuzzFeed fo...</td>\n",
       "      <td>0</td>\n",
       "    </tr>\n",
       "  </tbody>\n",
       "</table>\n",
       "</div>"
      ],
      "text/plain": [
       "                                                text  Sentiment\n",
       "0  RT @JohnLeguizamo: #trump not draining swamp b...          0\n",
       "1  ICYMI: Hackers Rig FM Radio Stations To Play A...          0\n",
       "2  Trump protests: LGBTQ rally in New York https:...          1\n",
       "3  \"Hi I'm Piers Morgan. David Beckham is awful b...          0\n",
       "4  RT @GlennFranco68: Tech Firm Suing BuzzFeed fo...          0"
      ]
     },
     "execution_count": 3,
     "metadata": {},
     "output_type": "execute_result"
    }
   ],
   "source": [
    "data = pd.read_csv(r\"C:\\Users\\swast\\Downloads\\trum_tweet_sentiment_analysis.csv\", encoding=\"ISO-8859-1\")\n",
    "data.head()"
   ]
  },
  {
   "cell_type": "code",
   "execution_count": 4,
   "id": "4aecef16-ac34-4f6f-8e41-a23d124eace3",
   "metadata": {},
   "outputs": [],
   "source": [
    "def remove_urls(text):\n",
    "  url_pattern = re.compile(r'https?://\\S+|www\\.\\S+')\n",
    "  return url_pattern.sub(r'', text)"
   ]
  },
  {
   "cell_type": "code",
   "execution_count": 5,
   "id": "2dcbaca2-5f33-4193-8c59-e60b327aa235",
   "metadata": {},
   "outputs": [],
   "source": [
    "def remove_emoji(string):\n",
    "  emoji_pattern = re.compile(\"[\"\n",
    "                           u\"\\U0001F600-\\U0001F64F\"  # emoticons\n",
    "                           u\"\\U0001F300-\\U0001F5FF\"  # symbols & pictographs\n",
    "                           u\"\\U0001F680-\\U0001F6FF\"  # transport & map symbols\n",
    "                           u\"\\U0001F1E0-\\U0001F1FF\"  # flags (iOS)\n",
    "                           u\"\\U00002702-\\U000027B0\"\n",
    "                           u\"\\U000024C2-\\U0001F251\"\n",
    "                           \"]+\", flags=re.UNICODE)\n",
    "  return emoji_pattern.sub(r' ', string)"
   ]
  },
  {
   "cell_type": "code",
   "execution_count": 6,
   "id": "4024d2ab-fa86-4516-81de-386a610c56d9",
   "metadata": {},
   "outputs": [],
   "source": [
    "def removeunwanted_characters(document):\n",
    "  # remove user mentions\n",
    "  document = re.sub(\"@[A-Za-z0-9_]+\",\" \", document)\n",
    "  # remove hashtags\n",
    "  document = re.sub(\"#[A-Za-z0-9_]+\",\"\", document)\n",
    "  # remove punctuation\n",
    "  document = re.sub(\"[^0-9A-Za-z ]\", \"\" , document)\n",
    "  #remove emojis\n",
    "  document = remove_emoji(document)\n",
    "  # remove double spaces\n",
    "  document = document.replace('  ',\"\")\n",
    "  return document.strip()"
   ]
  },
  {
   "cell_type": "code",
   "execution_count": 7,
   "id": "992abe7d-162b-4f73-9f17-dfa999401d16",
   "metadata": {},
   "outputs": [],
   "source": [
    "def remove_punct(text):\n",
    "  tokenizer = RegexpTokenizer(r\"\\w+\")\n",
    "  lst=tokenizer.tokenize(' '.join(text))\n",
    "  return lst"
   ]
  },
  {
   "cell_type": "code",
   "execution_count": 8,
   "id": "0dee9f75-2599-4143-aa01-a1974e1d54be",
   "metadata": {},
   "outputs": [
    {
     "name": "stderr",
     "output_type": "stream",
     "text": [
      "[nltk_data] Downloading package stopwords to\n",
      "[nltk_data]     C:\\Users\\swast\\AppData\\Roaming\\nltk_data...\n",
      "[nltk_data]   Package stopwords is already up-to-date!\n"
     ]
    }
   ],
   "source": [
    "nltk.download('stopwords')\n",
    "from nltk.corpus import stopwords\n",
    "from nltk.tokenize import word_tokenize\n",
    "stop_words = set(stopwords.words('english'))\n",
    "custom_stopwords = ['@', 'RT']\n",
    "stop_words.update(custom_stopwords)"
   ]
  },
  {
   "cell_type": "code",
   "execution_count": 9,
   "id": "9ac0e26d-7086-4c23-bcc1-dc76faf8cad1",
   "metadata": {},
   "outputs": [],
   "source": [
    "def remove_stopwords(text_tokens):\n",
    "  result_tokens = []\n",
    "  for token in text_tokens:\n",
    "    if token not in stop_words:\n",
    "       result_tokens.append(token)\n",
    "  return result_tokens"
   ]
  },
  {
   "cell_type": "code",
   "execution_count": 10,
   "id": "92a35de1-0487-4e21-82f1-d33858f68809",
   "metadata": {},
   "outputs": [
    {
     "name": "stderr",
     "output_type": "stream",
     "text": [
      "[nltk_data] Downloading package averaged_perceptron_tagger to\n",
      "[nltk_data]     C:\\Users\\swast\\AppData\\Roaming\\nltk_data...\n",
      "[nltk_data]   Package averaged_perceptron_tagger is already up-to-\n",
      "[nltk_data]       date!\n",
      "[nltk_data] Downloading package wordnet to\n",
      "[nltk_data]     C:\\Users\\swast\\AppData\\Roaming\\nltk_data...\n",
      "[nltk_data]   Package wordnet is already up-to-date!\n"
     ]
    }
   ],
   "source": [
    "from nltk.stem import WordNetLemmatizer\n",
    "from nltk import word_tokenize,pos_tag\n",
    "nltk.download('averaged_perceptron_tagger')\n",
    "nltk.download('wordnet')\n",
    "\n",
    "def lemmatization(token_text):\n",
    "  \"\"\"\n",
    "  This function performs the lemmatization operations as explained above.\n",
    "  Input Args:\n",
    "  token_text: list of tokens.\n",
    "  Returns:\n",
    "  lemmatized_tokens: list of lemmatized tokens.\n",
    "  \"\"\"\n",
    "  lemma_tokens = []\n",
    "  wordnet = WordNetLemmatizer()\n",
    "  lemmatized_tokens = [wordnet.lemmatize(token, pos = 'v') for token in token_text]\n",
    "\n",
    "  return lemmatized_tokens"
   ]
  },
  {
   "cell_type": "code",
   "execution_count": 11,
   "id": "29ef7365-c1fe-4f04-836d-8e92bacfdfe2",
   "metadata": {},
   "outputs": [
    {
     "data": {
      "text/plain": [
       "['Should', 'we', 'go', 'walk', 'or', 'swim']"
      ]
     },
     "execution_count": 11,
     "metadata": {},
     "output_type": "execute_result"
    }
   ],
   "source": [
    "lemmatization(\"Should we go walking or swimming\".split())"
   ]
  },
  {
   "cell_type": "code",
   "execution_count": 12,
   "id": "f9066eb6-bb11-43e9-bc14-ddf69fc3419d",
   "metadata": {},
   "outputs": [],
   "source": [
    "from nltk.stem import PorterStemmer\n",
    "\n",
    "def stemming(text):\n",
    "  \"\"\"\n",
    "  This function performs stemming operations.\n",
    "  Input Args:\n",
    "  token_text: list of tokenize text.\n",
    "  Returns:\n",
    "  stemm_tokes: list of stemmed tokens.\n",
    "  \"\"\"\n",
    "  porter = PorterStemmer()\n",
    "  stemm_tokens = []\n",
    "  for word in text:\n",
    "    stemm_tokens.append(porter.stem(word))\n",
    "  return stemm_tokens"
   ]
  },
  {
   "cell_type": "code",
   "execution_count": 13,
   "id": "87ae55d9-ea14-4449-b6c5-e8976471e2cf",
   "metadata": {},
   "outputs": [
    {
     "name": "stdout",
     "output_type": "stream",
     "text": [
      "+++++++++++++++++++++++++++++++INPUT TOKENS++++++++++++++++++++++++++++++++++++++++++++++++++++++++\n",
      "['Connects', 'Connecting', 'Connections', 'Connected', 'Connection', 'Connectings', 'Connect']\n",
      "++++++++++++++++++LEMMATIZED TOKENS+++++++++++++++++++++++++++++++++++++++++++++++++++++++++++++++++\n",
      "['Connects', 'Connecting', 'Connections', 'Connected', 'Connection', 'Connectings', 'Connect']\n",
      "+++++++++++++++++++++STEMMED TOKENS+++++++++++++++++++++++++++++++++++++\n",
      "['connect', 'connect', 'connect', 'connect', 'connect', 'connect', 'connect']\n"
     ]
    }
   ],
   "source": [
    "#Test\n",
    "print(\"+++++++++++++++++++++++++++++++\" \"INPUT TOKENS\" \"++++++++++++++++++++++++++++++++++++++++++++++++++++++++\")\n",
    "token_text_test=['Connects','Connecting','Connections','Connected','Connection','Connectings','Connect']\n",
    "print(token_text_test)\n",
    "print(\"++++++++++++++++++\" \"LEMMATIZED TOKENS\" \"+++++++++++++++++++++++++++++++++++++++++++++++++++++++++++++++++\")\n",
    "lemma_tokens = lemmatization(token_text_test)\n",
    "print(lemma_tokens)\n",
    "print(\"+++++++++++++++++++++\" \"STEMMED TOKENS\" \"+++++++++++++++++++++++++++++++++++++\")\n",
    "stemmed_tokens = stemming(token_text_test)\n",
    "print(stemmed_tokens)"
   ]
  },
  {
   "cell_type": "code",
   "execution_count": 14,
   "id": "169eeab6-c3ab-432e-be40-ba83643fecee",
   "metadata": {},
   "outputs": [
    {
     "name": "stdout",
     "output_type": "stream",
     "text": [
      "this is some normalized text\n"
     ]
    }
   ],
   "source": [
    "def lower_order(text):\n",
    "  \"\"\"\n",
    "  This function converts all the text in input text to lower order.\n",
    "  Input Args:\n",
    "  token_text : input text.\n",
    "  Returns:\n",
    "  small_order_text : text converted to small/lower order.\n",
    "  \"\"\"\n",
    "  small_order_text = text.lower()\n",
    "  return small_order_text\n",
    "\n",
    "# Test:\n",
    "sample_text = \"This Is some Normalized TEXT\"\n",
    "sample_small = lower_order(sample_text)\n",
    "print(sample_small)"
   ]
  },
  {
   "cell_type": "code",
   "execution_count": 15,
   "id": "f2422891-9366-4bba-b202-60975e64d741",
   "metadata": {},
   "outputs": [
    {
     "data": {
      "text/html": [
       "<div>\n",
       "<style scoped>\n",
       "    .dataframe tbody tr th:only-of-type {\n",
       "        vertical-align: middle;\n",
       "    }\n",
       "\n",
       "    .dataframe tbody tr th {\n",
       "        vertical-align: top;\n",
       "    }\n",
       "\n",
       "    .dataframe thead th {\n",
       "        text-align: right;\n",
       "    }\n",
       "</style>\n",
       "<table border=\"1\" class=\"dataframe\">\n",
       "  <thead>\n",
       "    <tr style=\"text-align: right;\">\n",
       "      <th></th>\n",
       "      <th>text</th>\n",
       "      <th>Sentiment</th>\n",
       "    </tr>\n",
       "  </thead>\n",
       "  <tbody>\n",
       "    <tr>\n",
       "      <th>0</th>\n",
       "      <td>RT @JohnLeguizamo: #trump not draining swamp b...</td>\n",
       "      <td>0</td>\n",
       "    </tr>\n",
       "    <tr>\n",
       "      <th>1</th>\n",
       "      <td>ICYMI: Hackers Rig FM Radio Stations To Play A...</td>\n",
       "      <td>0</td>\n",
       "    </tr>\n",
       "    <tr>\n",
       "      <th>2</th>\n",
       "      <td>Trump protests: LGBTQ rally in New York https:...</td>\n",
       "      <td>1</td>\n",
       "    </tr>\n",
       "    <tr>\n",
       "      <th>3</th>\n",
       "      <td>\"Hi I'm Piers Morgan. David Beckham is awful b...</td>\n",
       "      <td>0</td>\n",
       "    </tr>\n",
       "    <tr>\n",
       "      <th>4</th>\n",
       "      <td>RT @GlennFranco68: Tech Firm Suing BuzzFeed fo...</td>\n",
       "      <td>0</td>\n",
       "    </tr>\n",
       "  </tbody>\n",
       "</table>\n",
       "</div>"
      ],
      "text/plain": [
       "                                                text  Sentiment\n",
       "0  RT @JohnLeguizamo: #trump not draining swamp b...          0\n",
       "1  ICYMI: Hackers Rig FM Radio Stations To Play A...          0\n",
       "2  Trump protests: LGBTQ rally in New York https:...          1\n",
       "3  \"Hi I'm Piers Morgan. David Beckham is awful b...          0\n",
       "4  RT @GlennFranco68: Tech Firm Suing BuzzFeed fo...          0"
      ]
     },
     "execution_count": 15,
     "metadata": {},
     "output_type": "execute_result"
    }
   ],
   "source": [
    "data = pd.read_csv(r\"C:\\Users\\swast\\Downloads\\trum_tweet_sentiment_analysis.csv\", encoding=\"ISO-8859-1\")\n",
    "data.head()"
   ]
  },
  {
   "cell_type": "code",
   "execution_count": 16,
   "id": "d6196226-01a9-4c68-920d-a446bbfc934c",
   "metadata": {},
   "outputs": [],
   "source": [
    "data_cleaning = data[\"text\"].dropna()"
   ]
  },
  {
   "cell_type": "code",
   "execution_count": 17,
   "id": "a9208a78-79eb-4969-bd53-2ac1c4443b51",
   "metadata": {},
   "outputs": [
    {
     "data": {
      "text/plain": [
       "'RT @JohnLeguizamo: #trump not draining swamp but our taxpayer dollars on his trips to advertise his properties! @realDonaldTrumpÂ\\x85 https://t.co/gFBvUkMX9z'"
      ]
     },
     "execution_count": 17,
     "metadata": {},
     "output_type": "execute_result"
    }
   ],
   "source": [
    "data_cleaning[0]"
   ]
  },
  {
   "cell_type": "code",
   "execution_count": 18,
   "id": "6d483950-9f08-495b-8da3-6f4148fc6103",
   "metadata": {},
   "outputs": [],
   "source": [
    "def text_cleaning_pipeline(dataset, rule = \"lemmatize\"):\n",
    "  \"\"\"\n",
    "  This...\n",
    "  \"\"\"\n",
    "  # Convert the input to small/lower order.\n",
    "  data = lower_order(dataset)\n",
    "  # Remove URLs\n",
    "  data = remove_urls(data)\n",
    "  # Remove emojis\n",
    "  data = remove_emoji(data)\n",
    "  # Remove all other unwanted characters.\n",
    "  data = removeunwanted_characters(data)\n",
    "  # Create tokens.\n",
    "  tokens = data.split()\n",
    "  # Remove stopwords:\n",
    "  tokens = remove_stopwords(tokens)\n",
    "  if rule == \"lemmatize\":\n",
    "    tokens = lemmatization(tokens)\n",
    "  elif rule == \"stem\":\n",
    "    tokens = stemming(tokens)\n",
    "  else:\n",
    "    print(\"Pick between lemmatize or stem\")\n",
    "\n",
    "  return \" \".join(tokens)"
   ]
  },
  {
   "cell_type": "code",
   "execution_count": 19,
   "id": "61ab8137-d45b-4376-b5c7-890a3e0a5f03",
   "metadata": {},
   "outputs": [
    {
     "name": "stdout",
     "output_type": "stream",
     "text": [
      "hello still want us hit new sushi spot lmk youre free cuz cant go next weekend since ill swim\n"
     ]
    }
   ],
   "source": [
    "sample = \"Hello @gabe_flomo 👋🏾, I still want us to hit that new sushi spot??? LMK when you're free cuz I can't go this or next weekend since I'll be swimming!!! #sushiBros #rawFish #🍱\"\n",
    "print(text_cleaning_pipeline(sample))"
   ]
  },
  {
   "cell_type": "code",
   "execution_count": 20,
   "id": "2d0b2be5-e5eb-4fa2-9c22-ad3957aac570",
   "metadata": {},
   "outputs": [],
   "source": [
    "test = data[\"text\"][0]"
   ]
  },
  {
   "cell_type": "code",
   "execution_count": 21,
   "id": "deb08cf3-83b1-4188-b65e-4514fb13eba6",
   "metadata": {},
   "outputs": [
    {
     "name": "stdout",
     "output_type": "stream",
     "text": [
      "rtnot drain swamp taxpayer dollars trip advertise properties\n"
     ]
    }
   ],
   "source": [
    "print(text_cleaning_pipeline(test))"
   ]
  },
  {
   "cell_type": "code",
   "execution_count": 23,
   "id": "b68bcfdf-7f08-4678-b8f2-9cbf599cae8a",
   "metadata": {},
   "outputs": [],
   "source": [
    "cleaned_tokens = data[\"text\"].apply(lambda dataset: text_cleaning_pipeline(dataset))"
   ]
  },
  {
   "cell_type": "code",
   "execution_count": 24,
   "id": "2b2f8ca9-c275-4862-8e4d-428c821a5be0",
   "metadata": {},
   "outputs": [],
   "source": [
    "data['cleaned_text'] = data['text'].apply(lambda dataset: text_cleaning_pipeline(dataset))\n",
    "\n",
    "X_train, X_test, y_train, y_test = train_test_split(data['cleaned_text'], data['Sentiment'], test_size=0.2, random_state=42)"
   ]
  },
  {
   "cell_type": "code",
   "execution_count": null,
   "id": "a7e26f75-749d-4329-a1af-f7ea39008182",
   "metadata": {},
   "outputs": [],
   "source": [
    "print(data.columns)"
   ]
  },
  {
   "cell_type": "code",
   "execution_count": null,
   "id": "0c6a1be8-2613-49a1-9899-45266e6dc45a",
   "metadata": {},
   "outputs": [],
   "source": [
    "from sklearn.feature_extraction.text import TfidfVectorizer\n",
    "\n",
    "vectorizer = TfidfVectorizer(max_features=5000)\n",
    "X_train_tfidf = vectorizer.fit_transform(X_train)\n",
    "X_test_tfidf = vectorizer.transform(X_test)"
   ]
  },
  {
   "cell_type": "code",
   "execution_count": null,
   "id": "147a8db8-f545-4677-b691-554f8c09b910",
   "metadata": {},
   "outputs": [],
   "source": [
    "from sklearn.linear_model import LogisticRegression\n",
    "\n",
    "model = LogisticRegression()\n",
    "model.fit(X_train_tfidf, y_train)\n",
    "y_pred = model.predict(X_test_tfidf)"
   ]
  },
  {
   "cell_type": "code",
   "execution_count": null,
   "id": "f19aa731-83a9-4b71-90ef-a5ffc432a04a",
   "metadata": {},
   "outputs": [],
   "source": [
    "from sklearn.metrics import classification_report\n",
    "\n",
    "print(\"Classification Report:\")\n",
    "print(classification_report(y_test, y_pred))"
   ]
  },
  {
   "cell_type": "code",
   "execution_count": null,
   "id": "5df8a9bf-58ed-4778-aacc-ee7581cd07de",
   "metadata": {},
   "outputs": [],
   "source": [
    "tweet = data[\"text\"][89]  \n",
    "\n",
    "cleaned_tweet = text_cleaning_pipeline(tweet)\n",
    "\n",
    "tweet_tfidf = tfidf_vectorizer.transform([cleaned_tweet])\n",
    "\n",
    "prediction = model.predict(tweet_tfidf)[0]\n",
    "\n",
    "sentiment = \"Positive\" if prediction == 1 else \"Negative\"\n",
    "print(f\"Tweet: {tweet}\")\n",
    "print(f\"Predicted Sentiment: {sentiment}\")"
   ]
  }
 ],
 "metadata": {
  "kernelspec": {
   "display_name": "Python 3 (ipykernel)",
   "language": "python",
   "name": "python3"
  },
  "language_info": {
   "codemirror_mode": {
    "name": "ipython",
    "version": 3
   },
   "file_extension": ".py",
   "mimetype": "text/x-python",
   "name": "python",
   "nbconvert_exporter": "python",
   "pygments_lexer": "ipython3",
   "version": "3.9.13"
  }
 },
 "nbformat": 4,
 "nbformat_minor": 5
}
